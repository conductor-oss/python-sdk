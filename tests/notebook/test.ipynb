{
 "cells": [
  {
   "cell_type": "code",
   "execution_count": 4,
   "outputs": [
    {
     "name": "stdout",
     "output_type": "stream",
     "text": [
      "\n",
      "\n",
      "Good evening Viren! I hope you're having a great day.\n"
     ]
    }
   ],
   "source": [
    "from conductor.client.ai.orchestrator import AIOrchestrator\n",
    "from conductor.client.ai.configuration import AIConfiguration\n",
    "from conductor.client.configuration.configuration import Configuration\n",
    "from conductor.client.configuration.settings.authentication_settings import AuthenticationSettings\n",
    "from conductor.client.workflow.task.switch_task import SwitchTask\n",
    "\n",
    "ai_config = AIConfiguration('my_azure_open_ai', 'text-davinci-003', '', 'text-embedding-ada-002', 'pineconedb')\n",
    "api_config = Configuration(\n",
    "        authentication_settings=AuthenticationSettings(key_id='0092089d-19ff-4931-b3da-fc093029d0ad',\n",
    "                                                       key_secret='lzCCrpk5NLi0TYmIDiOfnJWLz5vkxMKn5BoCKIHSddOdYyg3'))\n",
    "\n",
    "ai_orchestrator = AIOrchestrator(api_configuration=api_config, ai_configuration=ai_config)\n",
    "\n",
    "result = ai_orchestrator.test_prompt_template('give an evening greeting to ${friend_name}. go: ',\n",
    "                                                  {'friend_name': 'viren'}, ai_config.llm_provider,\n",
    "                                                  ai_config.text_complete_model)\n",
    "print(result)"
   ],
   "metadata": {
    "collapsed": false,
    "ExecuteTime": {
     "end_time": "2023-12-03T08:17:17.499667Z",
     "start_time": "2023-12-03T08:17:14.377979Z"
    }
   },
   "id": "866c99bc07c3d0cd"
  },
  {
   "cell_type": "markdown",
   "source": [
    "# Let's try and run a workflow that uses the LLM Chaining"
   ],
   "metadata": {
    "collapsed": false
   },
   "id": "224067570fd81626"
  },
  {
   "cell_type": "code",
   "execution_count": 5,
   "outputs": [
    {
     "ename": "TypeError",
     "evalue": "__init__() missing 1 required positional argument: 'executor'",
     "output_type": "error",
     "traceback": [
      "\u001B[0;31m---------------------------------------------------------------------------\u001B[0m",
      "\u001B[0;31mTypeError\u001B[0m                                 Traceback (most recent call last)",
      "Cell \u001B[0;32mIn[5], line 11\u001B[0m\n\u001B[1;32m      8\u001B[0m     \u001B[38;5;28;01mreturn\u001B[39;00m \u001B[38;5;124m'\u001B[39m\u001B[38;5;124mSteve Jobs\u001B[39m\u001B[38;5;124m'\u001B[39m\n\u001B[1;32m     10\u001B[0m prompt \u001B[38;5;241m=\u001B[39m Prompt(name\u001B[38;5;241m=\u001B[39m\u001B[38;5;124m'\u001B[39m\u001B[38;5;124msay_hi_to_friend\u001B[39m\u001B[38;5;124m'\u001B[39m, variables\u001B[38;5;241m=\u001B[39m{\u001B[38;5;124m'\u001B[39m\u001B[38;5;124mfriend_name\u001B[39m\u001B[38;5;124m'\u001B[39m: \u001B[38;5;124m'\u001B[39m\u001B[38;5;124m$\u001B[39m\u001B[38;5;132;01m{get_friend_name_ref.output.result}\u001B[39;00m\u001B[38;5;124m'\u001B[39m})\n\u001B[0;32m---> 11\u001B[0m workflow \u001B[38;5;241m=\u001B[39m \u001B[43mConductorWorkflow\u001B[49m\u001B[43m(\u001B[49m\u001B[43mname\u001B[49m\u001B[38;5;241;43m=\u001B[39;49m\u001B[38;5;124;43m'\u001B[39;49m\u001B[38;5;124;43msay_hi_to_the_friend\u001B[39;49m\u001B[38;5;124;43m'\u001B[39;49m\u001B[43m)\u001B[49m\n\u001B[1;32m     12\u001B[0m workflow \u001B[38;5;241m>>\u001B[39m SimpleTask(task_def_name\u001B[38;5;241m=\u001B[39m\u001B[38;5;124m'\u001B[39m\u001B[38;5;124mget_friend_name\u001B[39m\u001B[38;5;124m'\u001B[39m, task_reference_name\u001B[38;5;241m=\u001B[39m\u001B[38;5;124m'\u001B[39m\u001B[38;5;124mget_friend_name_ref\u001B[39m\u001B[38;5;124m'\u001B[39m, execute_fn\u001B[38;5;241m=\u001B[39mgetName) \u001B[38;5;241m>>\u001B[39m LlmTextComplete(\u001B[38;5;124m'\u001B[39m\u001B[38;5;124msay_hi\u001B[39m\u001B[38;5;124m'\u001B[39m, \u001B[38;5;124m'\u001B[39m\u001B[38;5;124msay_hi_ref\u001B[39m\u001B[38;5;124m'\u001B[39m, ai_config\u001B[38;5;241m.\u001B[39mllm_provider, ai_config\u001B[38;5;241m.\u001B[39mtext_complete_model, prompt\u001B[38;5;241m=\u001B[39mprompt) \n\u001B[1;32m     13\u001B[0m workflow\u001B[38;5;241m.\u001B[39moutput_parameters \u001B[38;5;241m=\u001B[39m {\u001B[38;5;124m'\u001B[39m\u001B[38;5;124mgreetings\u001B[39m\u001B[38;5;124m'\u001B[39m: \u001B[38;5;124m'\u001B[39m\u001B[38;5;124m$\u001B[39m\u001B[38;5;132;01m{say_hi_ref.output.result}\u001B[39;00m\u001B[38;5;124m'\u001B[39m}\n",
      "\u001B[0;31mTypeError\u001B[0m: __init__() missing 1 required positional argument: 'executor'"
     ]
    }
   ],
   "source": [
    "from conductor.client.workflow.conductor_workflow import ConductorWorkflow\n",
    "from conductor.client.workflow.task.llm_tasks.utils.prompt import Prompt\n",
    "from conductor.client.workflow.task.llm_tasks.llm_text_complete import LlmTextComplete\n",
    "from conductor.client.workflow.task.simple_task import SimpleTask\n",
    "from conductor.client.http.models import Task, TaskResult\n",
    "\n",
    "def getName(task: Task) -> str:\n",
    "    return 'Steve Jobs'\n",
    "\n",
    "prompt = Prompt(name='say_hi_to_friend', variables={'friend_name': '${get_friend_name_ref.output.result}'})\n",
    "workflow = ConductorWorkflow(name='say_hi_to_the_friend')\n",
    "workflow >> SimpleTask(task_def_name='get_friend_name', task_reference_name='get_friend_name_ref', execute_fn=getName) >> LlmTextComplete('say_hi', 'say_hi_ref', ai_config.llm_provider, ai_config.text_complete_model, prompt=prompt) \n",
    "workflow.output_parameters = {'greetings': '${say_hi_ref.output.result}'}\n",
    "\n",
    "# When running from the notebook\n",
    "# task_executors = {'get_friend_name_ref': getName}\n",
    "\n",
    "wf_result = ai_orchestrator.execute_workflow(workflow=workflow, wait_for_seconds=5)\n",
    "print(wf_result.output)"
   ],
   "metadata": {
    "collapsed": false,
    "ExecuteTime": {
     "end_time": "2023-12-03T08:17:34.292670Z",
     "start_time": "2023-12-03T08:17:34.277184Z"
    }
   },
   "id": "5d6999207803bd5f"
  }
 ],
 "metadata": {
  "kernelspec": {
   "display_name": "Python 3",
   "language": "python",
   "name": "python3"
  },
  "language_info": {
   "codemirror_mode": {
    "name": "ipython",
    "version": 2
   },
   "file_extension": ".py",
   "mimetype": "text/x-python",
   "name": "python",
   "nbconvert_exporter": "python",
   "pygments_lexer": "ipython2",
   "version": "2.7.6"
  }
 },
 "nbformat": 4,
 "nbformat_minor": 5
}
