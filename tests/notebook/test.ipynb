{
 "cells": [
  {
   "cell_type": "code",
   "execution_count": null,
   "outputs": [],
   "source": [
    "from conductor.client.ai.orchestrator import AIOrchestrator\n",
    "from conductor.client.configuration.configuration import Configuration\n",
    "from conductor.client.configuration.settings.authentication_settings import AuthenticationSettings\n",
    "from conductor.client.workflow.task.switch_task import SwitchTask\n",
    "\n",
    "llm_provider = 'azure_openai'\n",
    "text_complete_model = 'text-davinci-003'\n",
    "embedding_complete_model = 'text-embedding-ada-002'\n",
    "    \n",
    "api_config = Configuration(\n",
    "        authentication_settings=AuthenticationSettings(key_id='0092089d-19ff-4931-b3da-fc093029d0ad',\n",
    "                                                       key_secret='lzCCrpk5NLi0TYmIDiOfnJWLz5vkxMKn5BoCKIHSddOdYyg3'))\n",
    "\n",
    "\n",
    "kernel = AIOrchestrator(api_configuration=api_config)\n",
    "\n",
    "result = kernel.test_prompt_template('give an evening greeting to ${friend_name}. go: ',\n",
    "                                         {'friend_name': 'viren'}, llm_provider, text_complete_model)\n",
    "\n",
    "print(result)"
   ],
   "metadata": {
    "collapsed": false,
    "is_executing": true
   },
   "id": "866c99bc07c3d0cd"
  },
  {
   "cell_type": "markdown",
   "source": [
    "# Let's try and run a workflow that uses the LLM Chaining"
   ],
   "metadata": {
    "collapsed": false
   },
   "id": "224067570fd81626"
  }
 ],
 "metadata": {
  "kernelspec": {
   "display_name": "Python 3",
   "language": "python",
   "name": "python3"
  },
  "language_info": {
   "codemirror_mode": {
    "name": "ipython",
    "version": 2
   },
   "file_extension": ".py",
   "mimetype": "text/x-python",
   "name": "python",
   "nbconvert_exporter": "python",
   "pygments_lexer": "ipython2",
   "version": "2.7.6"
  }
 },
 "nbformat": 4,
 "nbformat_minor": 5
}
