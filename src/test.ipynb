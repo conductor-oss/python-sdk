{
 "cells": [
  {
   "cell_type": "code",
   "execution_count": 2,
   "outputs": [
    {
     "name": "stdout",
     "output_type": "stream",
     "text": [
      "\n",
      "\n",
      "Good morning, Viren! It's nice to meet you.\n"
     ]
    }
   ],
   "source": [
    "from conductor.client.ai.ai_orchestrator import AIOrchestrator\n",
    "from conductor.client.ai.ai_orchestrator import AIConfiguration\n",
    "from conductor.client.configuration.configuration import Configuration\n",
    "from conductor.client.configuration.settings.authentication_settings import AuthenticationSettings\n",
    "from conductor.client.workflow.task.switch_task import SwitchTask\n",
    "\n",
    "ai_config = AIConfiguration('azure_openai', 'text-davinci-003', 'text-embedding-ada-002', 'pineconedb')\n",
    "api_config = Configuration(\n",
    "    authentication_settings=AuthenticationSettings(key_id='3bbcc893-66f4-4887-a419-12b8117fac62', key_secret='t6BhLZUqaKRXLEjzEtnVNnjtO5Ll2C1205SSE1rXg3WrRZ7V'))\n",
    "\n",
    "prompt_client = AIOrchestrator(api_configuration=api_config, ai_configuration=ai_config)\n",
    "prompt_client.add_prompt_template('say_hi_to_friend', 'Say hello to your new friend ${friend_name} based on the time of the day.', 'xxx template')\n",
    "result = prompt_client.test_prompt_template('say_hi_to_friend', {'friend_name': 'viren'})\n",
    "print(result)"
   ],
   "metadata": {
    "collapsed": false,
    "ExecuteTime": {
     "end_time": "2023-09-25T19:19:39.402170Z",
     "start_time": "2023-09-25T19:19:36.150700Z"
    }
   },
   "id": "866c99bc07c3d0cd"
  },
  {
   "cell_type": "markdown",
   "source": [
    "# Let's try and run a workflow that uses the LLM Chaining"
   ],
   "metadata": {
    "collapsed": false
   },
   "id": "224067570fd81626"
  },
  {
   "cell_type": "code",
   "execution_count": 4,
   "outputs": [
    {
     "name": "stdout",
     "output_type": "stream",
     "text": [
      "{'get_friend_name_ref': {'result': 'Viren Baraiya'}, 'say_hi_ref': {'result': \"\\n\\nGood morning, ${friend_name}! It's nice to meet you.\"}}\n"
     ]
    }
   ],
   "source": [
    "from conductor.client.workflow.conductor_workflow import ConductorWorkflow\n",
    "from conductor.client.workflow.task.llm_tasks.utils.prompt import Prompt\n",
    "from conductor.client.workflow.task.llm_tasks.llm_text_complete import LlmTextComplete\n",
    "from conductor.client.workflow.task.simple_task import SimpleTask\n",
    "from conductor.client.automator.task_handler import TaskHandler\n",
    "from conductor.client.worker.worker import Worker\n",
    "from conductor.client.http.models import Task, TaskResult\n",
    "from conductor.client.http.models.task_result_status import TaskResultStatus\n",
    "from conductor.client.worker.worker_interface import WorkerInterface\n",
    "\n",
    "def get_document(task: Task) -> str:\n",
    "    return 'Viren Baraiya'\n",
    "\n",
    "prompt = Prompt(name='say_hi_to_friend', variables={'friend_name': '${get_friend_name_ref.output.result}'})\n",
    "tasks = [\n",
    "        SimpleTask('get_friend_name', 'get_friend_name_ref'),\n",
    "        LlmTextComplete('say_hi', 'say_hi_ref', ai_config.llm_provider, ai_config.text_complete_model, prompt=prompt)\n",
    "    ]\n",
    "workflow = ConductorWorkflow(name='say_hi_to_the_friend')\n",
    "workflow >> tasks\n",
    "workflow.output_parameters = {'greetings': '${say_hi_ref.output.result}'}\n",
    "\n",
    "# When running from the notebook\n",
    "task_executors = {'get_friend_name_ref': get_document}\n",
    "\n",
    "wf_result = prompt_client.execute_workflow(workflow=workflow, wait_for_seconds=5, task_to_exec=task_executors)\n",
    "print(wf_result.output)"
   ],
   "metadata": {
    "collapsed": false,
    "ExecuteTime": {
     "end_time": "2023-09-25T19:19:54.952025Z",
     "start_time": "2023-09-25T19:19:51.736977Z"
    }
   },
   "id": "5d6999207803bd5f"
  }
 ],
 "metadata": {
  "kernelspec": {
   "display_name": "Python 3",
   "language": "python",
   "name": "python3"
  },
  "language_info": {
   "codemirror_mode": {
    "name": "ipython",
    "version": 2
   },
   "file_extension": ".py",
   "mimetype": "text/x-python",
   "name": "python",
   "nbconvert_exporter": "python",
   "pygments_lexer": "ipython2",
   "version": "2.7.6"
  }
 },
 "nbformat": 4,
 "nbformat_minor": 5
}
