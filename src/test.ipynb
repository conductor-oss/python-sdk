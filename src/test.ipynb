{
 "cells": [
  {
   "cell_type": "code",
   "execution_count": 1,
   "outputs": [
    {
     "name": "stderr",
     "output_type": "stream",
     "text": [
      "/Users/viren/workspace/github/orkes/sdk/conductor-python/venv/lib/python3.9/site-packages/urllib3/__init__.py:34: NotOpenSSLWarning: urllib3 v2.0 only supports OpenSSL 1.1.1+, currently the 'ssl' module is compiled with 'LibreSSL 2.8.3'. See: https://github.com/urllib3/urllib3/issues/3020\n",
      "  warnings.warn(\n"
     ]
    },
    {
     "name": "stdout",
     "output_type": "stream",
     "text": [
      "\n",
      "\n",
      "Good morning, Viren! It's nice to meet you.\n"
     ]
    }
   ],
   "source": [
    "from conductor.client.ai.ai_orchestrator import AIOrchestrator\n",
    "from conductor.client.ai.ai_orchestrator import AIConfiguration\n",
    "from conductor.client.configuration.configuration import Configuration\n",
    "from conductor.client.configuration.settings.authentication_settings import AuthenticationSettings\n",
    "from conductor.client.workflow.task.switch_task import SwitchTask\n",
    "\n",
    "ai_config = AIConfiguration('azure_openai', 'text-davinci-003', 'text-embedding-ada-002', 'pineconedb')\n",
    "api_config = Configuration(\n",
    "    authentication_settings=AuthenticationSettings(key_id='3bbcc893-66f4-4887-a419-12b8117fac62', key_secret='t6BhLZUqaKRXLEjzEtnVNnjtO5Ll2C1205SSE1rXg3WrRZ7V'))\n",
    "\n",
    "prompt_client = AIOrchestrator(api_configuration=api_config, ai_configuration=ai_config)\n",
    "prompt_client.add_prompt_template('say_hi_to_friend', 'Say hello to your new friend ${friend_name} based on the time of the day.', 'xxx template')\n",
    "result = prompt_client.test_prompt_template('say_hi_to_friend', {'friend_name': 'viren'})\n",
    "print(result)"
   ],
   "metadata": {
    "collapsed": false,
    "ExecuteTime": {
     "end_time": "2023-11-20T19:17:05.140695Z",
     "start_time": "2023-11-20T19:17:04.482083Z"
    }
   },
   "id": "866c99bc07c3d0cd"
  },
  {
   "cell_type": "markdown",
   "source": [
    "# Let's try and run a workflow that uses the LLM Chaining"
   ],
   "metadata": {
    "collapsed": false
   },
   "id": "224067570fd81626"
  },
  {
   "cell_type": "code",
   "execution_count": 6,
   "outputs": [
    {
     "ename": "TypeError",
     "evalue": "can only concatenate str (not \"list\") to str",
     "output_type": "error",
     "traceback": [
      "\u001B[0;31m---------------------------------------------------------------------------\u001B[0m",
      "\u001B[0;31mTypeError\u001B[0m                                 Traceback (most recent call last)",
      "Cell \u001B[0;32mIn[6], line 18\u001B[0m\n\u001B[1;32m     13\u001B[0m workflow\u001B[38;5;241m.\u001B[39moutput_parameters \u001B[38;5;241m=\u001B[39m {\u001B[38;5;124m'\u001B[39m\u001B[38;5;124mgreetings\u001B[39m\u001B[38;5;124m'\u001B[39m: \u001B[38;5;124m'\u001B[39m\u001B[38;5;124m$\u001B[39m\u001B[38;5;132;01m{say_hi_ref.output.result}\u001B[39;00m\u001B[38;5;124m'\u001B[39m}\n\u001B[1;32m     15\u001B[0m \u001B[38;5;66;03m# When running from the notebook\u001B[39;00m\n\u001B[1;32m     16\u001B[0m \u001B[38;5;66;03m# task_executors = {'get_friend_name_ref': getName}\u001B[39;00m\n\u001B[0;32m---> 18\u001B[0m wf_result \u001B[38;5;241m=\u001B[39m \u001B[43mprompt_client\u001B[49m\u001B[38;5;241;43m.\u001B[39;49m\u001B[43mexecute_workflow\u001B[49m\u001B[43m(\u001B[49m\u001B[43mworkflow\u001B[49m\u001B[38;5;241;43m=\u001B[39;49m\u001B[43mworkflow\u001B[49m\u001B[43m,\u001B[49m\u001B[43m \u001B[49m\u001B[43mwait_for_seconds\u001B[49m\u001B[38;5;241;43m=\u001B[39;49m\u001B[38;5;241;43m5\u001B[39;49m\u001B[43m)\u001B[49m\n\u001B[1;32m     19\u001B[0m \u001B[38;5;28mprint\u001B[39m(wf_result\u001B[38;5;241m.\u001B[39moutput)\n",
      "File \u001B[0;32m~/workspace/github/orkes/sdk/conductor-python/src/conductor/client/ai/ai_orchestrator.py:78\u001B[0m, in \u001B[0;36mAIOrchestrator.execute_workflow\u001B[0;34m(self, workflow, task_to_exec, wait_for_seconds)\u001B[0m\n\u001B[1;32m     76\u001B[0m task_to_exec \u001B[38;5;241m=\u001B[39m task_to_exec \u001B[38;5;129;01mor\u001B[39;00m {}\n\u001B[1;32m     77\u001B[0m task_to_exec \u001B[38;5;241m=\u001B[39m workflow\u001B[38;5;241m.\u001B[39mtasks\n\u001B[0;32m---> 78\u001B[0m \u001B[38;5;28mprint\u001B[39m(\u001B[38;5;124;43m'\u001B[39;49m\u001B[38;5;124;43mHello\u001B[39;49m\u001B[38;5;124;43m'\u001B[39;49m\u001B[43m \u001B[49m\u001B[38;5;241;43m+\u001B[39;49m\u001B[43m \u001B[49m\u001B[43mtask_to_exec\u001B[49m)\n\u001B[1;32m     79\u001B[0m workflow\u001B[38;5;241m.\u001B[39mexecutor \u001B[38;5;241m=\u001B[39m \u001B[38;5;28mself\u001B[39m\u001B[38;5;241m.\u001B[39mworkflow_executor\n\u001B[1;32m     80\u001B[0m request \u001B[38;5;241m=\u001B[39m StartWorkflowRequest()\n",
      "\u001B[0;31mTypeError\u001B[0m: can only concatenate str (not \"list\") to str"
     ]
    }
   ],
   "source": [
    "from conductor.client.workflow.conductor_workflow import ConductorWorkflow\n",
    "from conductor.client.workflow.task.llm_tasks.utils.prompt import Prompt\n",
    "from conductor.client.workflow.task.llm_tasks.llm_text_complete import LlmTextComplete\n",
    "from conductor.client.workflow.task.simple_task import SimpleTask\n",
    "from conductor.client.http.models import Task, TaskResult\n",
    "\n",
    "def getName(task: Task) -> str:\n",
    "    return 'Steve Jobs'\n",
    "\n",
    "prompt = Prompt(name='say_hi_to_friend', variables={'friend_name': '${get_friend_name_ref.output.result}'})\n",
    "workflow = ConductorWorkflow(name='say_hi_to_the_friend')\n",
    "workflow >> SimpleTask(task_def_name='get_friend_name', task_reference_name='get_friend_name_ref', execute_fn=getName) >> LlmTextComplete('say_hi', 'say_hi_ref', ai_config.llm_provider, ai_config.text_complete_model, prompt=prompt) \n",
    "workflow.output_parameters = {'greetings': '${say_hi_ref.output.result}'}\n",
    "\n",
    "# When running from the notebook\n",
    "# task_executors = {'get_friend_name_ref': getName}\n",
    "\n",
    "wf_result = prompt_client.execute_workflow(workflow=workflow, wait_for_seconds=5)\n",
    "print(wf_result.output)"
   ],
   "metadata": {
    "collapsed": false,
    "ExecuteTime": {
     "end_time": "2023-11-20T19:17:20.277641Z",
     "start_time": "2023-11-20T19:17:20.261670Z"
    }
   },
   "id": "5d6999207803bd5f"
  }
 ],
 "metadata": {
  "kernelspec": {
   "display_name": "Python 3",
   "language": "python",
   "name": "python3"
  },
  "language_info": {
   "codemirror_mode": {
    "name": "ipython",
    "version": 2
   },
   "file_extension": ".py",
   "mimetype": "text/x-python",
   "name": "python",
   "nbconvert_exporter": "python",
   "pygments_lexer": "ipython2",
   "version": "2.7.6"
  }
 },
 "nbformat": 4,
 "nbformat_minor": 5
}
